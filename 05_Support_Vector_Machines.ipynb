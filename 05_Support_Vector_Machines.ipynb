{
 "cells": [
  {
   "cell_type": "markdown",
   "metadata": {},
   "source": [
    "# 第5章 サポートベクトルマシン(SVM)\n",
    "**サポートベクトルマシン**(SVM: Support Vector Machine)は，線形・非線形分類，回帰だけではなく，外れ値検出にも対応可能な非常に協力かつ柔軟な機械学習モデルである．\n",
    "SVM は特に複雑ながら中小規模のデータセットの分類に適している．\n",
    "\n",
    "## 5.1 線形 SVM 分類器"
   ]
  },
  {
   "cell_type": "code",
   "execution_count": null,
   "metadata": {},
   "outputs": [],
   "source": []
  }
 ],
 "metadata": {
  "kernelspec": {
   "display_name": "Python 3",
   "language": "python",
   "name": "python3"
  },
  "language_info": {
   "codemirror_mode": {
    "name": "ipython",
    "version": 3
   },
   "file_extension": ".py",
   "mimetype": "text/x-python",
   "name": "python",
   "nbconvert_exporter": "python",
   "pygments_lexer": "ipython3",
   "version": "3.7.5"
  }
 },
 "nbformat": 4,
 "nbformat_minor": 2
}
