{
 "cells": [
  {
   "cell_type": "markdown",
   "metadata": {},
   "source": [
    "# 9.6 勾配降下法の実装\n",
    "バッチ勾配降下法（第４章）を用いながら TensorFlow の勾配降下法について見ていく"
   ]
  },
  {
   "cell_type": "markdown",
   "metadata": {},
   "source": [
    "## 9.6.1 マニュアルの勾配降下法\n",
    "- tf.random_uniform() 関数は与えられた形状の乱数を格納したテンソルを生成する\n",
    "- tf.assign() 関数によって $ \\theta_i = \\theta_{i-1} - \\eta\\nabla_{\\theta}MSE(\\theta) $ の式でパラメータを更新する\n",
    "- 100エポックごとに平均二乗誤差の値をチェック"
   ]
  },
  {
   "cell_type": "code",
   "execution_count": 1,
   "metadata": {},
   "outputs": [
    {
     "name": "stderr",
     "output_type": "stream",
     "text": [
      "Downloading Cal. housing from https://ndownloader.figshare.com/files/5976036 to /home/yuko/scikit_learn_data\n"
     ]
    }
   ],
   "source": [
    "import numpy as np\n",
    "import tensorflow as tf\n",
    "from sklearn.datasets import fetch_california_housing\n",
    "from sklearn.preprocessing import StandardScaler\n",
    "\n",
    "# データの読み込み\n",
    "housing = fetch_california_housing()\n",
    "m, n = housing.data.shape\n",
    "\n",
    "# 前処理で scikit-learn を使って標準化を行う\n",
    "scaler = StandardScaler()\n",
    "scaled_housing_data = scaler.fit_transform(housing.data)\n",
    "scaled_housing_data_plus_bias = np.c_[np.ones((m, 1)), scaled_housing_data]\n",
    "\n",
    "# エポック数と学習率の設定\n",
    "n_epochs = 1000\n",
    "learning_rate = 0.01"
   ]
  },
  {
   "cell_type": "code",
   "execution_count": 2,
   "metadata": {},
   "outputs": [],
   "source": [
    "# 最小二乗法による線形回帰問題の計算グラフの構築\n",
    "X = tf.constant(scaled_housing_data_plus_bias, dtype=tf.float32, name=\"X\")\n",
    "y = tf.constant(housing.target.reshape(-1, 1), dtype=tf.float32, name=\"y\")\n",
    "theta = tf.Variable(tf.random_uniform([n + 1, 1], -1.0, 1.0), name=\"theta\")\n",
    "y_pred = tf.matmul(X, theta, name=\"pred\")\n",
    "error = y_pred - y\n",
    "mse = tf.reduce_mean(tf.square(error), name=\"mse\")\n",
    "gradients = 2 / m * tf.matmul(tf.transpose(X), error)\n",
    "training_op = tf.assign(theta, theta - learning_rate * gradients)"
   ]
  },
  {
   "cell_type": "code",
   "execution_count": 3,
   "metadata": {},
   "outputs": [
    {
     "name": "stdout",
     "output_type": "stream",
     "text": [
      "Epoch 0 MSE = 5.077684\n",
      "Epoch 100 MSE = 0.6258699\n",
      "Epoch 200 MSE = 0.5609791\n",
      "Epoch 300 MSE = 0.55120426\n",
      "Epoch 400 MSE = 0.54517955\n",
      "Epoch 500 MSE = 0.54064816\n",
      "Epoch 600 MSE = 0.53716975\n",
      "Epoch 700 MSE = 0.53448224\n",
      "Epoch 800 MSE = 0.5323948\n",
      "Epoch 900 MSE = 0.53076494\n",
      "Best theta:\n",
      "[[ 2.0685523 ]\n",
      " [ 0.8784914 ]\n",
      " [ 0.14207697]\n",
      " [-0.3313743 ]\n",
      " [ 0.3484965 ]\n",
      " [ 0.00334755]\n",
      " [-0.04234134]\n",
      " [-0.6839516 ]\n",
      " [-0.65901357]]\n"
     ]
    }
   ],
   "source": [
    "# 計算の実行\n",
    "init = tf.global_variables_initializer()\n",
    "\n",
    "with tf.Session() as sess:\n",
    "    sess.run(init)\n",
    "    \n",
    "    for epoch in range(n_epochs):\n",
    "        if epoch % 100 == 0:\n",
    "            print(\"Epoch\", epoch, \"MSE =\", mse.eval())\n",
    "        sess.run(training_op)\n",
    "        \n",
    "    best_theta = theta.eval()\n",
    "    \n",
    "print(\"Best theta:\")\n",
    "print(best_theta)"
   ]
  },
  {
   "cell_type": "markdown",
   "metadata": {},
   "source": [
    "## 9.6.2 自動微分を使った方法\n",
    "数式微分（symbolic differentiation）なら偏微分方程式は見つけられるが，面倒で間違いやすい上，得られるコードは必ずしも効率的ではない   \n",
    "　⇛ TensorFlow の自動微分機能を使えば自動的に効率的な方法で勾配計算を行える  \n",
    "<br/>\n",
    "**微分計算の方法**\n",
    "- 数値微分    \n",
    "　実装は簡単だが正確性に欠ける\n",
    "- 数式微分   \n",
    "　正確な計算が可能だが全く別の計算グラフを構築しなければならない\n",
    "- フォワードモード自動微分    \n",
    "　二重数（dual number）を使う\n",
    "- リバースモード自動微分    \n",
    "　出力次元+1回のトレースで正確な計算が可能  \n",
    "\n",
    "<br/>\n",
    "TensorFlow ではリバースモード自動微分が使われている．詳細は付録D（p.509）を参照のこと"
   ]
  },
  {
   "cell_type": "code",
   "execution_count": 7,
   "metadata": {},
   "outputs": [],
   "source": [
    "tf.reset_default_graph()\n",
    "# 計算グラフ上で gradients = ・・・ を tf.gradients() を使って書き換えるだけ\n",
    "X = tf.constant(scaled_housing_data_plus_bias, dtype=tf.float32, name=\"X\")\n",
    "y = tf.constant(housing.target.reshape(-1, 1), dtype=tf.float32, name=\"y\")\n",
    "theta = tf.Variable(tf.random_uniform([n + 1, 1], -1.0, 1.0), name=\"theta\")\n",
    "y_pred = tf.matmul(X, theta, name=\"pred\")\n",
    "error = y_pred - y\n",
    "mse = tf.reduce_mean(tf.square(error), name=\"mse\")\n",
    "gradients = tf.gradients(mse, [theta])[0]\n",
    "training_op = tf.assign(theta, theta - learning_rate * gradients)"
   ]
  },
  {
   "cell_type": "code",
   "execution_count": 9,
   "metadata": {},
   "outputs": [
    {
     "name": "stdout",
     "output_type": "stream",
     "text": [
      "Epoch 0 MSE = 12.944657\n",
      "Epoch 100 MSE = 0.8369553\n",
      "Epoch 200 MSE = 0.6204883\n",
      "Epoch 300 MSE = 0.5920519\n",
      "Epoch 400 MSE = 0.57361066\n",
      "Epoch 500 MSE = 0.5602673\n",
      "Epoch 600 MSE = 0.5505775\n",
      "Epoch 700 MSE = 0.5435335\n",
      "Epoch 800 MSE = 0.5384069\n",
      "Epoch 900 MSE = 0.53467107\n",
      "Best theta:\n",
      "[[ 2.0685523 ]\n",
      " [ 0.82096785]\n",
      " [ 0.14873374]\n",
      " [-0.19006982]\n",
      " [ 0.217304  ]\n",
      " [ 0.00651637]\n",
      " [-0.04167806]\n",
      " [-0.6894497 ]\n",
      " [-0.6562385 ]]\n"
     ]
    }
   ],
   "source": [
    "# 計算の実行\n",
    "init = tf.global_variables_initializer()\n",
    "\n",
    "with tf.Session() as sess:\n",
    "    sess.run(init)\n",
    "    \n",
    "    for epoch in range(n_epochs):\n",
    "        if epoch % 100 == 0:\n",
    "            print(\"Epoch\", epoch, \"MSE =\", mse.eval())\n",
    "        sess.run(training_op)\n",
    "        \n",
    "    best_theta = theta.eval()\n",
    "\n",
    "# マニュアル実装したときとほぼ同じ結果が得られる\n",
    "print(\"Best theta:\")\n",
    "print(best_theta)"
   ]
  },
  {
   "cell_type": "markdown",
   "metadata": {},
   "source": [
    "## 9.6.3 オプティマイザを使うと\n",
    "TensorFlow には様々なオプティマイザが実装済み"
   ]
  },
  {
   "cell_type": "code",
   "execution_count": 10,
   "metadata": {},
   "outputs": [],
   "source": [
    "tf.reset_default_graph()\n",
    "# 計算グラフ上で gradients = ・・・ と training_op = ・・・ を書き換え\n",
    "X = tf.constant(scaled_housing_data_plus_bias, dtype=tf.float32, name=\"X\")\n",
    "y = tf.constant(housing.target.reshape(-1, 1), dtype=tf.float32, name=\"y\")\n",
    "theta = tf.Variable(tf.random_uniform([n + 1, 1], -1.0, 1.0), name=\"theta\")\n",
    "y_pred = tf.matmul(X, theta, name=\"pred\")\n",
    "error = y_pred - y\n",
    "mse = tf.reduce_mean(tf.square(error), name=\"mse\")\n",
    "\n",
    "# この先を書き換える\n",
    "# 単純な勾配降下法\n",
    "# optimizer = tf.train.GradientDescentOptimizer(learning_rate=0.01)\n",
    "# Momentum（こっちのほうが収束が早い）\n",
    "optimizer = tf.train.MomentumOptimizer(learning_rate=0.01, momentum=0.9)\n",
    "training_op = optimizer.minimize(mse)"
   ]
  },
  {
   "cell_type": "code",
   "execution_count": 11,
   "metadata": {},
   "outputs": [
    {
     "name": "stdout",
     "output_type": "stream",
     "text": [
      "Epoch 0 MSE = 9.86366\n",
      "Epoch 100 MSE = 0.5437534\n",
      "Epoch 200 MSE = 0.52653486\n",
      "Epoch 300 MSE = 0.52460945\n",
      "Epoch 400 MSE = 0.5243593\n",
      "Epoch 500 MSE = 0.5243261\n",
      "Epoch 600 MSE = 0.5243217\n",
      "Epoch 700 MSE = 0.5243211\n",
      "Epoch 800 MSE = 0.524321\n",
      "Epoch 900 MSE = 0.524321\n",
      "Best theta:\n",
      "[[ 2.068558  ]\n",
      " [ 0.829636  ]\n",
      " [ 0.11875474]\n",
      " [-0.26555827]\n",
      " [ 0.3057222 ]\n",
      " [-0.0045021 ]\n",
      " [-0.03932688]\n",
      " [-0.8998477 ]\n",
      " [-0.8705049 ]]\n"
     ]
    }
   ],
   "source": [
    "# 計算の実行\n",
    "init = tf.global_variables_initializer()\n",
    "\n",
    "with tf.Session() as sess:\n",
    "    sess.run(init)\n",
    "    \n",
    "    for epoch in range(n_epochs):\n",
    "        if epoch % 100 == 0:\n",
    "            print(\"Epoch\", epoch, \"MSE =\", mse.eval())\n",
    "        sess.run(training_op)\n",
    "        \n",
    "    best_theta = theta.eval()\n",
    "\n",
    "# マニュアル実装したときとほぼ同じ結果が得られる\n",
    "print(\"Best theta:\")\n",
    "print(best_theta)"
   ]
  },
  {
   "cell_type": "code",
   "execution_count": null,
   "metadata": {},
   "outputs": [],
   "source": []
  }
 ],
 "metadata": {
  "kernelspec": {
   "display_name": "Python 3",
   "language": "python",
   "name": "python3"
  },
  "language_info": {
   "codemirror_mode": {
    "name": "ipython",
    "version": 3
   },
   "file_extension": ".py",
   "mimetype": "text/x-python",
   "name": "python",
   "nbconvert_exporter": "python",
   "pygments_lexer": "ipython3",
   "version": "3.6.7"
  }
 },
 "nbformat": 4,
 "nbformat_minor": 2
}
