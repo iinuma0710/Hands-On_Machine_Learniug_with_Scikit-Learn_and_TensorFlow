{
 "cells": [
  {
   "cell_type": "markdown",
   "metadata": {},
   "source": [
    "# 第10章 人工ニューラルネットワーク入門\n",
    "人工ニューラルネットワーク（ANN: Artificial Neural Network）は柔軟・強力かつスケーラブルであり，現代の深層学習の中核をなす技術である．\n",
    "画像分類や音声認識，動画の推薦や強化学習など，様々なタスクに応用されている．\n",
    "\n",
    "## 10.1 生物学的なニューロンから人工ニューロンへ\n",
    "ANN は 1943年に神経生理学者ウォーレン・マカロックと数学者ウォルター・ピッツの考え方を初めて提唱した．彼らは動物の脳の生物学的ニューロンが共同作業で命題論理（propositional logic）を駆使して複雑な計算を実行する仕組みについて，単純な計算モデルを示した．  \n",
    "1960年代頃まで ANN は多くの支持を集めてきたが，その後1980年代はじめまで最初の冬の時代を迎えた．  \n",
    "1980年代には新たなネットワークアーキテクチャの発明と訓練方法の洗練により，再び日の目を見ることになる．  \n",
    "しかし，1990年代までには SVM（サポートベクターマシン）などの発明により，顧みられることはほとんどなくなった．\n",
    "その後，2010年ごろまで長い冬の時代を経て，近年急速に関心を集めるようになった．  \n",
    "その要因としては以下のような要因が考えられる．\n",
    "\n",
    "- ニューラルネットワークを訓練するためのビッグデータ\n",
    "- GPU などの計算能力の大幅な強化\n",
    "- 訓練アルゴリズムの洗練\n",
    "- ANN の理論的限界は実践的にはほとんど無害であることがわかった\n",
    "- ANN が資金を獲得し進歩する良い循環に入った\n",
    "\n",
    "### 10.1.1 生物学的ニューロン\n",
    "<div align=\"center\">\n",
    "    <img src=\"./img/ch10/IMG_0122.png\" title=\"生物学的ニューロン\">\n",
    "</div>\n",
    "\n",
    "<div align=\"center\">\n",
    "    <img src=\"./img/ch10/IMG_0123.png\" title=\"多層的な生物学的ニューラルネットワーク\">\n",
    "</div>\n",
    "\n",
    "### 10.1.2 ニューロンによる理論演算\n",
    "<div align=\"center\">\n",
    "    <img src=\"./img/ch10/IMG_0124.png\" title=\"単純な論理演算を実行する ANN\">\n",
    "</div>\n",
    "\n",
    "### 10.1.3 パーセプトロン\n",
    "<div align=\"center\">\n",
    "    <img src=\"./img/ch10/IMG_0125.png\" title=\"LTU\">\n",
    "</div>\n",
    "\n",
    "<div align=\"center\">\n",
    "    <img src=\"./img/ch10/IMG_0126.png\" title=\"パーセプトロン\">\n",
    "</div>\n",
    "\n",
    "\n",
    "### 10.1.4 MLP とバックプロパゲーション\n",
    "<div align=\"center\">\n",
    "    <img src=\"./img/ch10/IMG_0127.png\" title=\"XOR 分類問題とこの問題を解決する MLP\">\n",
    "</div>\n",
    "\n",
    "<div align=\"center\">\n",
    "    <img src=\"./img/ch10/IMG_0128.png\" title=\"MLP\">\n",
    "</div>\n",
    "\n",
    "<div align=\"center\">\n",
    "    <img src=\"./img/ch10/IMG_0129.png\" title=\"活性化関数とその導関数\">\n",
    "</div>\n",
    "\n",
    "<div align=\"center\">\n",
    "    <img src=\"./img/ch10/IMG_0130.png\" title=\"分類用の新しい MLP\">\n",
    "</div>\n"
   ]
  },
  {
   "cell_type": "code",
   "execution_count": null,
   "metadata": {},
   "outputs": [],
   "source": []
  }
 ],
 "metadata": {
  "kernelspec": {
   "display_name": "Python 3",
   "language": "python",
   "name": "python3"
  },
  "language_info": {
   "codemirror_mode": {
    "name": "ipython",
    "version": 3
   },
   "file_extension": ".py",
   "mimetype": "text/x-python",
   "name": "python",
   "nbconvert_exporter": "python",
   "pygments_lexer": "ipython3",
   "version": "3.6.7"
  }
 },
 "nbformat": 4,
 "nbformat_minor": 2
}
